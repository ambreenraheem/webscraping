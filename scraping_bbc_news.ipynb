{
  "nbformat": 4,
  "nbformat_minor": 0,
  "metadata": {
    "colab": {
      "provenance": []
    },
    "kernelspec": {
      "name": "python3",
      "display_name": "Python 3"
    },
    "language_info": {
      "name": "python"
    }
  },
  "cells": [
    {
      "cell_type": "markdown",
      "source": [
        "# Ambreen Abdul Raheem\n",
        "## Data Analyst (Upwork Freelancer)\n",
        "## Webscraping (Data scraping with Python)\n",
        "## Collaboration with \"Codanics\"\n",
        "####Codanics: https://codanics.com/\n",
        "#### Email: ambreen.upwork.27@gmail.com\n",
        "#### Linkedin: https://www.linkedin.com/in/ambreen-abdul-raheem-122509300/\n",
        "#### GitHUb: https://github.com/ambreenraheem\n",
        "##Date: 15-05-2025"
      ],
      "metadata": {
        "id": "_P4GYR_LVBmF"
      }
    },
    {
      "cell_type": "markdown",
      "source": [
        "This notebook demonstrates how to scrape news headlines and their descriptions from the BBC News homepage using Python, requests, and BeautifulSoup.\n",
        "###### Explanation of the code:\n",
        "- import request and from bs4 import BeautifulSoup: import libraries for HTTP requests and HTML parsing.\n",
        "- news_url= \"'https://www.bbc.com/news\": Set URL for BBC News homepage.\n",
        "- request.get(news_url).content: Fetch the HTML content of the page.\n",
        "- BeautifulSoup(..., \"html.parser\"): Parse the HTML content.\n",
        "- Try to find all 'h3' tags with the class gs-c-promo-heading__title(common for headlines).\n",
        "- If not found,try anchor tags with class gc-c-promo-heading.\n",
        "- If still not found, fallback to all anchor tags with /news/ in their href and non-empty text.\n",
        "- For each headline foud, print the headline and its description (if available).\n",
        "###### The code is robust to changes in the BBC News HTML structure by trying multiple selectors.\n"
      ],
      "metadata": {
        "id": "bcTjdgq6XEbt"
      }
    },
    {
      "cell_type": "markdown",
      "source": [
        "#### Imprt some Important Libraries"
      ],
      "metadata": {
        "id": "8_dq03lOfM6D"
      }
    },
    {
      "cell_type": "code",
      "source": [
        "!pip install beautifulsoup4\n",
        "from IPython import get_ipython\n",
        "from IPython.display import display\n",
        "import pandas as pd\n",
        "import numpy as np\n",
        "import requests\n",
        "# The correct import is from the bs4 package\n",
        "from bs4 import BeautifulSoup\n"
      ],
      "metadata": {
        "colab": {
          "base_uri": "https://localhost:8080/"
        },
        "id": "nPnady-MptxX",
        "outputId": "58ca5675-fc26-477d-d4ae-17278d927afe"
      },
      "execution_count": null,
      "outputs": [
        {
          "output_type": "stream",
          "name": "stdout",
          "text": [
            "Requirement already satisfied: beautifulsoup4 in /usr/local/lib/python3.11/dist-packages (4.13.4)\n",
            "Requirement already satisfied: soupsieve>1.2 in /usr/local/lib/python3.11/dist-packages (from beautifulsoup4) (2.7)\n",
            "Requirement already satisfied: typing-extensions>=4.0.0 in /usr/local/lib/python3.11/dist-packages (from beautifulsoup4) (4.13.2)\n"
          ]
        }
      ]
    },
    {
      "cell_type": "markdown",
      "source": [
        "### Get Heading for Headlines from BBC News"
      ],
      "metadata": {
        "id": "fcW2fHvufbu-"
      }
    },
    {
      "cell_type": "code",
      "source": [
        "news_url = 'https://www.bbc.com/news'\n",
        "response=requests.get(news_url)\n",
        "news_soup=BeautifulSoup(response.content,'html.parser')\n",
        "news_item=news_soup.find_all('div',class_='news-item')"
      ],
      "metadata": {
        "id": "iFKNEyujrgFI"
      },
      "execution_count": null,
      "outputs": []
    },
    {
      "cell_type": "code",
      "source": [
        "headlines= news_soup.find_all('h3',class_=\"gc-c-promo-heading__title\")"
      ],
      "metadata": {
        "id": "ldKCKvXytFDp"
      },
      "execution_count": null,
      "outputs": []
    },
    {
      "cell_type": "code",
      "source": [
        "if not headlines:\n",
        "  promo_anchors = news_soup.select('a.gc-c-promo-heading')\n",
        "  headlines=[a for a in promo_anchors if a.text.strip()]"
      ],
      "metadata": {
        "id": "isQSCuuyheUZ"
      },
      "execution_count": null,
      "outputs": []
    },
    {
      "cell_type": "code",
      "source": [
        "if not headlines:\n",
        "  headlines =[\n",
        "      a for a in news_soup.find_all(\"a\", href=True)\n",
        "      if \"/news/\" in a[\"href\"] and a.text.strip()\n",
        "  ]"
      ],
      "metadata": {
        "id": "IrUwAzVPiKoa"
      },
      "execution_count": null,
      "outputs": []
    },
    {
      "cell_type": "code",
      "source": [
        "if not headlines:\n",
        "  print(\"No headlines found\")\n",
        "else:\n",
        "  for idx, headlines in enumerate(headlines, start=1):\n",
        "    headlines_text=headlines.text.strip()\n",
        "    print(f\"{idx}. {headlines_text}\")"
      ],
      "metadata": {
        "colab": {
          "base_uri": "https://localhost:8080/"
        },
        "id": "B-Dve-yFk6tn",
        "outputId": "5c5aa41c-d524-4069-f2c9-4f1d13a96cdd"
      },
      "execution_count": null,
      "outputs": [
        {
          "output_type": "stream",
          "name": "stdout",
          "text": [
            "1. Israel-Gaza War\n",
            "2. War in Ukraine\n",
            "3. US & Canada\n",
            "4. UK\n",
            "5. Africa\n",
            "6. Asia\n",
            "7. Australia\n",
            "8. Europe\n",
            "9. Latin America\n",
            "10. Middle East\n",
            "11. In Pictures\n",
            "12. BBC InDepth\n",
            "13. BBC Verify\n",
            "14. Israel-Gaza War\n",
            "15. War in Ukraine\n",
            "16. US & Canada\n",
            "17. UK\n",
            "18. UK Politics\n",
            "19. England\n",
            "20. N. Ireland\n",
            "21. N. Ireland Politics\n",
            "22. Scotland\n",
            "23. Scotland Politics\n",
            "24. Wales\n",
            "25. Wales Politics\n",
            "26. Africa\n",
            "27. Asia\n",
            "28. China\n",
            "29. India\n",
            "30. Australia\n",
            "31. Europe\n",
            "32. Latin America\n",
            "33. Middle East\n",
            "34. In Pictures\n",
            "35. BBC InDepth\n",
            "36. BBC Verify\n",
            "37. New round of ceasefire talks after Israel launches major offensiveHamas says its negotiators have opened a new round of talks aimed at ending the war, and all issues are on the table.3 hrs agoMiddle East\n",
            "38. Trump says he will call Putin to discuss stopping Ukraine 'bloodbath'The US president said the pair would speak on Monday, and he would later talk to Ukraine's President Zelensky.2 hrs agoWorld\n",
            "39. Was Diddy a 'mastermind'? How ex Cassie's testimony builds the sex trafficking case against himThe mogul’s ex-girlfriend feared saying no to his sexual fantasies. His defence argues they were consensual. 17 hrs agoCulture\n",
            "40. How Diddy's lawyers used 'freak off' texts against CassieThe BBC's Nada Tawfik explains what happened when the text messages were brought up in court.23 hrs agoUS & Canada\n",
            "41. US loses last perfect credit rating amid rising debtMoody's said successive US administrations had failed to reverse ballooning deficits and interest costs.20 hrs agoUS & Canada\n",
            "42. Trump says he will call Putin to discuss stopping Ukraine 'bloodbath'The US president said the pair would speak on Monday, and he would later talk to Ukraine's President Zelensky.2 hrs agoWorld\n",
            "43. Trump's frantic week of peace brokering hints at what he really wantsAfter seven breathless days of diplomatic hurly burly, we have a clearer idea of the US president's global ideology - and the limits of his 'art of a deal'.22 hrs agoBBC InDepth\n",
            "44. At least 21 dead after tornadoes sweep through US MidwestKentucky and Missouri report severe injuries and deaths in storms that hit on Friday and Saturday.4 hrs agoUS & Canada\n",
            "45. LIVEUK's Remember Monday join acts at Eurovision 2025 grand final in SwitzerlandAfter competing in the semi-finals this week, finalists from 26 countries are performing in Basel for one last performance.\n",
            "46. Was Diddy a 'mastermind'? How ex Cassie's testimony builds the sex trafficking case against himThe mogul’s ex-girlfriend feared saying no to his sexual fantasies. His defence argues they were consensual. 17 hrs agoCulture\n",
            "47. Audio emerges of Biden 'poor memory' interview with investigator19 hrs agoUS & Canada\n",
            "48. Five killed after helicopters collide in Finland2 hrs agoEurope\n",
            "49. Ex-FBI boss interviewed by Secret Service over Trump seashell post20 hrs agoUS & Canada\n",
            "50. I was on a flight - but British Airways told me I wasn't21 hrs agoEurope\n",
            "51. Second man arrested over fires at homes linked to UK PM Starmer4 hrs agoLondon\n",
            "52. Doom: One of gaming's oldest series reckons with the challenges of 2025Doom is one of the most well-known series in gaming but it still has to work to find new players.21 hrs ago\n",
            "53. How expert team 'milks' Australia's deadly animals to create life-saving antivenomThe public antivenom programme saving lives in a place where, the joke goes, everything wants to kill you.22 hrs agoAustralia\n",
            "54. Of opium, fire temples, and sarees: A peek into the world of India's dwindling ParsisThe Alpaiwala Museum in Mumbai city traces the origins and history of the fast-dwindling Parsi community.21 hrs agoAsia\n",
            "55. The 'peacock of Savile Row' on dressing stars for the Met GalaOzwald Boateng's four decades of experience was on show at the fashion world's biggest event.21 hrs agoAfrica\n",
            "56. Ros Atkins on... how world leaders are responding to Israel's blockade of GazaThe BBC's Analysis Editor Ros Atkins looks at how world leaders are responding to Israel's blockade of Gaza.21 hrs agoMiddle East\n",
            "57. How expert team 'milks' Australia's deadly animals to create life-saving antivenomThe public antivenom programme saving lives in a place where, the joke goes, everything wants to kill you.22 hrs agoAustralia\n",
            "58. Ros Atkins on... how world leaders are responding to Israel's blockade of GazaThe BBC's Analysis Editor Ros Atkins looks at how world leaders are responding to Israel's blockade of Gaza.21 hrs agoMiddle East\n",
            "59. Huge fire engulfs historic plantation house in LouisianaFlames ripped through Nottoway House, destroying much of structure, which was built in 1859.22 hrs agoUS & Canada\n",
            "60. M&S hackers believed to have gained access through third partyThe retailer has been struggling to get its services back to normal after a cyber-attack in April.5 hrs ago\n",
            "61. Alleged Iranian spies charged with targeting UK-based journalistsThe men arrived in the UK, including by small boats, between 2016 and 2022 and were granted temporary leave to remain after claiming asylum.5 hrs agoUK\n",
            "62. UK Eurovision song played outside Buckingham PalaceThe Royal Family shared a video of the performance by The Band of the Irish Guards on X.10 hrs agoEurope\n",
            "63. Jail for pair caught with $49m of cocaine in boat off UK coastOne of the men, who dived overboard, was arrested eight hours later wandering around barefoot, NCA says. 12 hrs agoNorfolk\n",
            "64. M&S hackers believed to have gained access through third partyThe retailer has been struggling to get its services back to normal after a cyber-attack in April.5 hrs ago\n",
            "65. Venezuelan deported from US using gang 'points system', lawyers sayAndry Hernández was identified for removal due to the tattoos on his wrist, but insists he is not a gang member.24 hrs agoWorld\n",
            "66. 'To Easy LoL' - New Orleans jail break may have been inside jobThe inmates ripped a toilet from the wall and escaped through a hole before running across a highway.18 hrs agoUS & Canada\n",
            "67. Alleged Iranian spies charged with targeting UK-based journalistsThe men arrived in the UK, including by small boats, between 2016 and 2022 and were granted temporary leave to remain after claiming asylum.5 hrs agoUK\n",
            "68. 1How Diddy's lawyers used 'freak off' texts against Cassie\n",
            "69. 2Huge fire engulfs historic plantation house in Louisiana\n",
            "70. 3Ros Atkins on... how world leaders are responding to Israel's blockade of Gaza\n",
            "71. 4UK Eurovision entry played outside Buckingham Palace\n",
            "72. 5Watch: UK surgeon shares footage from Gaza hospital after deadly Israeli strike\n",
            "73. 1Trump's frantic week of peace brokering hints at what he really wants\n",
            "74. 2Trump says he will call Putin to discuss stopping Ukraine 'bloodbath'\n",
            "75. 3What time does the Eurovision 2025 final start and who is in it?\n",
            "76. 4Canada's iconic Hudson Bay brand to survive after sale to competitor\n",
            "77. 5New round of ceasefire talks after Israel launches major offensive\n",
            "78. 6Audio emerges of Biden 'poor memory' interview with investigator\n",
            "79. 7Five killed after helicopters collide in Finland\n",
            "80. 8At least 21 dead after tornadoes sweep through US Midwest\n",
            "81. 9US loses last perfect credit rating amid rising debt\n",
            "82. 10Of opium, fire temples, and sarees: A peek into the world of India's dwindling Parsis\n"
          ]
        }
      ]
    },
    {
      "cell_type": "markdown",
      "source": [
        "# Download BBC news headlines with links and snippet"
      ],
      "metadata": {
        "id": "BQpaV6fooRX-"
      }
    },
    {
      "cell_type": "code",
      "source": [
        "import requests\n",
        "from bs4 import BeautifulSoup\n",
        "from datetime import datetime\n",
        "\n",
        "news_url= \"https://www.bbc.com/news\"\n",
        "\n",
        "response= requests.get(news_url)\n",
        "\n",
        "news_soup= BeautifulSoup(response.content,'html.parser')\n",
        "\n",
        "headlies= news_soup.find_all(\"h3\", class_=\"gs-c-promo-heading__title\")\n",
        "if not headlines:\n",
        "  promo_anchors= news_soup.select(\"a.gs-c-promo-heading\")\n",
        "  headlines= [a for a in promo_anchors if a.text.strip()]\n",
        "\n",
        "if not headlines:\n",
        "  headlines= [\n",
        "      a for a in news_soup.find_all(\"a\", href=True)\n",
        "      if \"/news/\" in a[\"href\"] and a.text.strip()\n",
        "  ]\n",
        "\n",
        "if not headlines:\n",
        "  print(\"No headlines found\")\n",
        "else:\n",
        "  for idx, headline in enumerate(headlines, start=1):\n",
        "    headline_text= headline.text.strip()\n",
        "    link=None\n",
        "    if headline.name==\"a\" and headline.has_attr(\"href\"):\n",
        "      link= headline[\"href\"]\n",
        "    else:\n",
        "      parent_a= headline.find_parent(\"a\")\n",
        "      if parent_a:\n",
        "        link= parent_a[\"href\"]\n",
        "    if link and link.startswith(\"/\"):\n",
        "      link= \"https://www.bbc.com\" + link\n",
        "    print(f\"{idx}. {headline_text}\")\n",
        "    if link:\n",
        "      print(f\"   Link: {link}\")\n",
        "      try:\n",
        "        article_response= requests.get(link)\n",
        "        article_soup= BeautifulSoup(article_response.content,'html.parser')\n",
        "        article_tag= article_soup.find(\"article\")\n",
        "        if not article_tag:\n",
        "          article_tag=article_soup.find(attrs={\"role\":\"main\"})\n",
        "        if article_tag:\n",
        "            paragraphs=article_tag.find_all(\"p\")\n",
        "        else:\n",
        "            paragraphs=article_soup.find_all(\"p\")\n",
        "        article_text=\" \".join([p.get_text(strip=True) for p in paragraphs])\n",
        "        snippet=article_text[:400]+(\"...\" if len(article_text)>400 else \"\")\n",
        "        date_str=\"\"\n",
        "        time_tag= article_soup.find(\"time\")\n",
        "        if not time_tag:\n",
        "          meta_time= article_soup.find(\"meta\",attrs={\"property\":\"article:Published_time\"})\n",
        "          if meta_time and meta_time.has_attr(\"content\"):\n",
        "            date_str= meta_time[\"content\"]\n",
        "        if not date_str and time_tag and time_tag.has_attr(\"datetime\"):\n",
        "          date_str= time_tag[\"datetime\"]\n",
        "        elif not date_str and time_tag:\n",
        "          date_str=time_tag.get_text(strip=True)\n",
        "        if date_str:\n",
        "          try:\n",
        "            dt=datetime.fromisoformat(date_str.replace(\"z\",\"+00:00\"))\n",
        "            date_str= dt.strftime(\"%Y-%m-%d %H:%M:%S %Z\")\n",
        "          except Exception:\n",
        "            pass\n",
        "        print(f\"   Date: {date_str if date_str else '(No Date Found)'}\")\n",
        "        print(f\"   News: {snippet}\")\n",
        "      except Exception as e:\n",
        "        print(f\"   Date: (No Date Found)\")\n",
        "        print(f\"   News: (Could not fetch article: {e})\")\n",
        "    else:\n",
        "      print(\"   Date: (No Date Found)\")\n",
        "      print(\"   Link: (No Link Found)\")\n",
        "      print(\"   News: (No articles Found)\")"
      ],
      "metadata": {
        "colab": {
          "base_uri": "https://localhost:8080/"
        },
        "id": "mSLe5tYsoiND",
        "outputId": "c8d9ce16-a7df-42ec-a252-5c208d31d9e7"
      },
      "execution_count": null,
      "outputs": [
        {
          "output_type": "stream",
          "name": "stdout",
          "text": [
            "1. 10Of opium, fire temples, and sarees: A peek into the world of India's dwindling Parsis\n",
            "   Link: https://www.bbc.com/news/articles/cvgv445jqr1o\n",
            "   Date: 2025-05-16 23:32:14 UTC\n",
            "   News: Tucked away in a lane in the southern end of India's financial capital, Mumbai, is a  museum dedicated to the followers of one of the world's oldest religions, Zoroastrianism. The Framji Dadabhoy Alpaiwalla Museum documents the history and legacy of the ancient Parsi community - a small ethnic group that's fast dwindling and resides largely in India. Now estimated at just 50,000 to 60,000, the Par...\n"
          ]
        }
      ]
    },
    {
      "cell_type": "markdown",
      "source": [
        "# Saving News in Markdown File:"
      ],
      "metadata": {
        "id": "P54jEMrdB3-7"
      }
    },
    {
      "cell_type": "code",
      "source": [
        "import requests\n",
        "from bs4 import BeautifulSoup\n",
        "import re"
      ],
      "metadata": {
        "id": "RQMwRnwCCd1n"
      },
      "execution_count": 31,
      "outputs": []
    },
    {
      "cell_type": "code",
      "source": [
        "# # Search query for BBC News as user Input\n",
        "# query= input(\"Enter your search query: \")\n",
        "# # URL for BBC search\n",
        "# search_url= f\"https://www.bbc.com/search?q={query.replace(' ', '+')}\"\n",
        "\n",
        "# response=requests.get(search_url)\n",
        "# soup=BeautifulSoup(response.content,\"html.parser\")\n",
        "\n",
        "# # Try to find all promo items (less dependent on class names)\n",
        "# results=[]\n",
        "# pattern=re.compile(r\"\\bPakistan\\b\",re.IGNORECASE)\n",
        "# pattern2=re.compile(r\"\\bIndia\\b\", re.IGNORECASE)\n",
        "\n",
        "# for item in soup.find_all([\"article\",\"li\"]):\n",
        "#   #try to get headlines and snippets\n",
        "#   headline_tag= item.find(\"h1\",\"h2\",\"h3\",\"span\")\n",
        "#   snippet_tag= item.find(\"p\")\n",
        "#   headline=headline_tag.get_text(strip=True) if headline_tag else \"\"\n",
        "#   snippet=snippet_tag.get_text(strip=True) if snippet_tag else \"\"\n",
        "\n",
        "#   #check if both \"Pakistan\" and \"India\" are present in either headline or snippet\n",
        "#   if (pattern.search(headline) and pattern2.search(headline)) or \\\n",
        "#      (pattern.search(snippet) and pattern2.search(snippet)):\n",
        "#       link_tag= item.find(\"a\",href=True)\n",
        "#       link= link_tag[\"href\"] if link_tag else \"\"\n",
        "#       if link and link.startswith(\"/\"):\n",
        "#         link= \"https://www.bbc.com\" + link\n",
        "#       results.append({\n",
        "#           \"headline\":headline,\n",
        "#           \"snippet\":snippet,\n",
        "#           \"link\":link})\n",
        "\n",
        "#   if not results:\n",
        "#     print(\"No result Found for 'Pakistan India war' on BBC.\")\n",
        "#   else:\n",
        "#     for idx,result in enumerate(results,1):\n",
        "#       print(f\"{idx}. {result['headline']}\")\n",
        "#       print(f\"   Link: {result['link']}\")\n",
        "#       print(f\"   Snippet: {result['snippet']}\\n\")"
      ],
      "metadata": {
        "id": "Lz-Qmiw4H2lr"
      },
      "execution_count": null,
      "outputs": []
    }
  ]
}